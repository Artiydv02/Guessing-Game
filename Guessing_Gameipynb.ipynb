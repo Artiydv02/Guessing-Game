{
  "nbformat": 4,
  "nbformat_minor": 0,
  "metadata": {
    "colab": {
      "provenance": []
    },
    "kernelspec": {
      "name": "python3",
      "display_name": "Python 3"
    },
    "language_info": {
      "name": "python"
    }
  },
  "cells": [
    {
      "cell_type": "code",
      "execution_count": 8,
      "metadata": {
        "colab": {
          "base_uri": "https://localhost:8080/"
        },
        "id": "0kcT3IKwB7IA",
        "outputId": "85408737-757b-4e81-bb0d-8c80d95edd35"
      },
      "outputs": [
        {
          "output_type": "stream",
          "name": "stdout",
          "text": [
            "Guess the number50\n",
            "Guess Higher number\n",
            "Guess the number: 70\n",
            "Guess Higher number\n",
            "Guess the number: 80\n",
            "Guess Higher number\n",
            "Guess the number: 90\n",
            "Guess Higher number\n",
            "Guess the number: 100\n",
            "Guess Lower number\n",
            "Guess the number: 95\n",
            "Guess Higher number\n",
            "Guess the number: 97\n",
            "Guess Higher number\n",
            "Guess the number: 99\n",
            "Guess Lower number\n",
            "Guess the number: 98\n",
            "Yuhoo!! You guess the correct number\n",
            "You took 9 attempts\n"
          ]
        }
      ],
      "source": [
        "import random\n",
        "jackpot = random.randint(1,100)\n",
        "guess = int(input(\"Guess the number\"))\n",
        "counter = 1\n",
        "\n",
        "while guess!= jackpot:\n",
        "    if guess < jackpot:\n",
        "      print(\"Guess Higher number\")\n",
        "    else:\n",
        "      print(\"Guess Lower number\")\n",
        "\n",
        "    guess = int(input(\"Guess the number: \"))\n",
        "    counter+=1\n",
        "\n",
        "print(\"Yuhoo!! You guess the correct number\")\n",
        "print(\"You took\" ,counter,\"attempts\")\n"
      ]
    },
    {
      "cell_type": "code",
      "source": [],
      "metadata": {
        "id": "rMWFqsXFCDNb"
      },
      "execution_count": 3,
      "outputs": []
    },
    {
      "cell_type": "code",
      "source": [],
      "metadata": {
        "id": "0ix7QFBcCHqm"
      },
      "execution_count": null,
      "outputs": []
    }
  ]
}